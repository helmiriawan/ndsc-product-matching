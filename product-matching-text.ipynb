{
  "nbformat": 4,
  "nbformat_minor": 0,
  "metadata": {
    "kernelspec": {
      "name": "python3",
      "display_name": "Python 3",
      "language": "python"
    },
    "language_info": {
      "name": "python",
      "version": "3.7.6",
      "mimetype": "text/x-python",
      "codemirror_mode": {
        "name": "ipython",
        "version": 3
      },
      "pygments_lexer": "ipython3",
      "nbconvert_exporter": "python",
      "file_extension": ".py"
    },
    "colab": {
      "name": "product-matching-text.ipynb",
      "provenance": []
    }
  },
  "cells": [
    {
      "cell_type": "code",
      "metadata": {
        "_uuid": "8f2839f25d086af736a60e9eeb907d3b93b6e0e5",
        "_cell_guid": "b1076dfc-b9ad-4769-8c92-a6c4dae69d19",
        "trusted": true,
        "id": "IVmFB7qp6srT"
      },
      "source": [
        "import numpy as np\n",
        "import pandas as pd\n",
        "import tensorflow as tf\n",
        "import transformers"
      ],
      "execution_count": null,
      "outputs": []
    },
    {
      "cell_type": "markdown",
      "metadata": {
        "id": "co0tq_8Y6srV"
      },
      "source": [
        "# Configuration"
      ]
    },
    {
      "cell_type": "code",
      "metadata": {
        "trusted": true,
        "id": "pvmJylga6srV"
      },
      "source": [
        "# Define some hyperparameters\n",
        "max_length = 128  # Maximum length of input sentence to the model.\n",
        "batch_size = 32\n",
        "epochs = 2\n",
        "\n",
        "# Labels in our dataset.\n",
        "labels = [\"different\", \"similar\"]"
      ],
      "execution_count": null,
      "outputs": []
    },
    {
      "cell_type": "markdown",
      "metadata": {
        "id": "EKViVSwW6srV"
      },
      "source": [
        "# Data Preparation"
      ]
    },
    {
      "cell_type": "code",
      "metadata": {
        "_uuid": "d629ff2d2480ee46fbb7e2d37f6b5fab8052498a",
        "_cell_guid": "79c7e3d0-c299-4dcb-8224-4455121ee9b0",
        "trusted": true,
        "id": "pRXoK6GF6srV"
      },
      "source": [
        "# Specify input file location\n",
        "training_file = '../input/pre-product-matching-id-ndsc-2020/new_training_set.csv'\n",
        "test_file = '../input/pre-product-matching-id-ndsc-2020/new_test_sample.csv'"
      ],
      "execution_count": null,
      "outputs": []
    },
    {
      "cell_type": "markdown",
      "metadata": {
        "id": "HZWe-vkg6srV"
      },
      "source": [
        "# Data Understanding"
      ]
    },
    {
      "cell_type": "code",
      "metadata": {
        "trusted": true,
        "id": "ePNrHiRR6srV"
      },
      "source": [
        "# Load dataset\n",
        "training_data = pd.read_csv(training_file)\n",
        "test_data = pd.read_csv(test_file)"
      ],
      "execution_count": null,
      "outputs": []
    },
    {
      "cell_type": "code",
      "metadata": {
        "trusted": true,
        "id": "hGj9DXeU6srV",
        "outputId": "2954a2b6-fe1a-4bc2-bb09-194933aff0c4"
      },
      "source": [
        "# Show sample training data \n",
        "training_data.head()"
      ],
      "execution_count": null,
      "outputs": [
        {
          "output_type": "execute_result",
          "data": {
            "text/plain": [
              "   Unnamed: 0                                            title_1  \\\n",
              "0           0      Johnson’s ® Top to Toe Hair & Body Bath 500ml   \n",
              "1           1                                      Sandal Humble   \n",
              "2           2  PROMO LIKUID LIKUIT LIQUIT BABY POD LIQUID SAL...   \n",
              "3           3  6 Pasang / Set Anting Tusuk Bentuk Lingkaran A...   \n",
              "4           4  ROREC NATURAL SKIN CARE MASK ROREC SHEET MASK ...   \n",
              "\n",
              "                                image_1  \\\n",
              "0  fdff8b9b8229da091dd7d070aae05f81.jpg   \n",
              "1  906cc44f0be72d4e767669b5b63e3a17.jpg   \n",
              "2  475c26635de18b9f93032400732ff336.jpg   \n",
              "3  e630997f6217555d6026547ad1c15f0b.jpg   \n",
              "4  a27d11700a7902febd039dc3a96f10f2.jpg   \n",
              "\n",
              "                                             title_2  \\\n",
              "0  Johnson's cottontouch top to toe hair & body b...   \n",
              "1                     Sandal Humble Glass - Glanzton   \n",
              "2  Voporizer Liquit - Likuit - Likuid - Liquid Pr...   \n",
              "3  Subei 6 Pasang / Set Anting Tusuk Boho Bohemia...   \n",
              "4  Rorec 86 Natural Skin Care Shert Mask All Variant   \n",
              "\n",
              "                                image_2  Label  \n",
              "0  41e191742760932598c7bd201e5dad47.jpg      0  \n",
              "1  7a556b836bfdd08ea592216440524a34.jpg      0  \n",
              "2  ace93bec689f3f1565800c500a8341fa.jpg      0  \n",
              "3  31abbc176b09f5bd1728cfc3ecbbfb9c.jpg      0  \n",
              "4  813ad9dd638c10f1765db9dde20c9e42.jpg      1  "
            ],
            "text/html": [
              "<div>\n",
              "<style scoped>\n",
              "    .dataframe tbody tr th:only-of-type {\n",
              "        vertical-align: middle;\n",
              "    }\n",
              "\n",
              "    .dataframe tbody tr th {\n",
              "        vertical-align: top;\n",
              "    }\n",
              "\n",
              "    .dataframe thead th {\n",
              "        text-align: right;\n",
              "    }\n",
              "</style>\n",
              "<table border=\"1\" class=\"dataframe\">\n",
              "  <thead>\n",
              "    <tr style=\"text-align: right;\">\n",
              "      <th></th>\n",
              "      <th>Unnamed: 0</th>\n",
              "      <th>title_1</th>\n",
              "      <th>image_1</th>\n",
              "      <th>title_2</th>\n",
              "      <th>image_2</th>\n",
              "      <th>Label</th>\n",
              "    </tr>\n",
              "  </thead>\n",
              "  <tbody>\n",
              "    <tr>\n",
              "      <th>0</th>\n",
              "      <td>0</td>\n",
              "      <td>Johnson’s ® Top to Toe Hair &amp; Body Bath 500ml</td>\n",
              "      <td>fdff8b9b8229da091dd7d070aae05f81.jpg</td>\n",
              "      <td>Johnson's cottontouch top to toe hair &amp; body b...</td>\n",
              "      <td>41e191742760932598c7bd201e5dad47.jpg</td>\n",
              "      <td>0</td>\n",
              "    </tr>\n",
              "    <tr>\n",
              "      <th>1</th>\n",
              "      <td>1</td>\n",
              "      <td>Sandal Humble</td>\n",
              "      <td>906cc44f0be72d4e767669b5b63e3a17.jpg</td>\n",
              "      <td>Sandal Humble Glass - Glanzton</td>\n",
              "      <td>7a556b836bfdd08ea592216440524a34.jpg</td>\n",
              "      <td>0</td>\n",
              "    </tr>\n",
              "    <tr>\n",
              "      <th>2</th>\n",
              "      <td>2</td>\n",
              "      <td>PROMO LIKUID LIKUIT LIQUIT BABY POD LIQUID SAL...</td>\n",
              "      <td>475c26635de18b9f93032400732ff336.jpg</td>\n",
              "      <td>Voporizer Liquit - Likuit - Likuid - Liquid Pr...</td>\n",
              "      <td>ace93bec689f3f1565800c500a8341fa.jpg</td>\n",
              "      <td>0</td>\n",
              "    </tr>\n",
              "    <tr>\n",
              "      <th>3</th>\n",
              "      <td>3</td>\n",
              "      <td>6 Pasang / Set Anting Tusuk Bentuk Lingkaran A...</td>\n",
              "      <td>e630997f6217555d6026547ad1c15f0b.jpg</td>\n",
              "      <td>Subei 6 Pasang / Set Anting Tusuk Boho Bohemia...</td>\n",
              "      <td>31abbc176b09f5bd1728cfc3ecbbfb9c.jpg</td>\n",
              "      <td>0</td>\n",
              "    </tr>\n",
              "    <tr>\n",
              "      <th>4</th>\n",
              "      <td>4</td>\n",
              "      <td>ROREC NATURAL SKIN CARE MASK ROREC SHEET MASK ...</td>\n",
              "      <td>a27d11700a7902febd039dc3a96f10f2.jpg</td>\n",
              "      <td>Rorec 86 Natural Skin Care Shert Mask All Variant</td>\n",
              "      <td>813ad9dd638c10f1765db9dde20c9e42.jpg</td>\n",
              "      <td>1</td>\n",
              "    </tr>\n",
              "  </tbody>\n",
              "</table>\n",
              "</div>"
            ]
          },
          "metadata": {
            "tags": []
          },
          "execution_count": 5
        }
      ]
    },
    {
      "cell_type": "code",
      "metadata": {
        "trusted": true,
        "id": "7jCA7uxS6srV",
        "outputId": "99c46e3f-74aa-494d-846f-2935c7182fad"
      },
      "source": [
        "# Show number of samples in training data\n",
        "training_data.shape[0]"
      ],
      "execution_count": null,
      "outputs": [
        {
          "output_type": "execute_result",
          "data": {
            "text/plain": [
              "10181"
            ]
          },
          "metadata": {
            "tags": []
          },
          "execution_count": 6
        }
      ]
    },
    {
      "cell_type": "code",
      "metadata": {
        "trusted": true,
        "id": "FOiZnD8O6srW",
        "outputId": "e175e75b-bae5-4cd4-8675-9176ad3eff8c"
      },
      "source": [
        "# Show distribution of data\n",
        "training_data.Label.value_counts()"
      ],
      "execution_count": null,
      "outputs": [
        {
          "output_type": "execute_result",
          "data": {
            "text/plain": [
              "1    5844\n",
              "0    4337\n",
              "Name: Label, dtype: int64"
            ]
          },
          "metadata": {
            "tags": []
          },
          "execution_count": 7
        }
      ]
    },
    {
      "cell_type": "code",
      "metadata": {
        "trusted": true,
        "id": "L-_7er6y6srW",
        "outputId": "f6ea2d05-a0b1-47ba-dd64-71e2e3107402"
      },
      "source": [
        "# Check for any missing data\n",
        "training_data.isnull().sum()"
      ],
      "execution_count": null,
      "outputs": [
        {
          "output_type": "execute_result",
          "data": {
            "text/plain": [
              "Unnamed: 0    0\n",
              "title_1       0\n",
              "image_1       0\n",
              "title_2       2\n",
              "image_2       0\n",
              "Label         0\n",
              "dtype: int64"
            ]
          },
          "metadata": {
            "tags": []
          },
          "execution_count": 8
        }
      ]
    },
    {
      "cell_type": "code",
      "metadata": {
        "trusted": true,
        "id": "IR47NsWk6srW",
        "outputId": "8c05230f-71cd-4c89-b42c-f105b0926130"
      },
      "source": [
        "# Show sample of test data\n",
        "test_data.head()"
      ],
      "execution_count": null,
      "outputs": [
        {
          "output_type": "execute_result",
          "data": {
            "text/plain": [
              "   Unnamed: 0                                            title_1  \\\n",
              "0           0   12.12 SUPER PROMO !! Sandal Jepit Pantai Fashion   \n",
              "1           1  Damai fashion jakarta - long dress JUMBO wanit...   \n",
              "2           2                        My Baby Minyak Telon 145 ML   \n",
              "3           3  Creative Waterborne Marker Very Fine Double - ...   \n",
              "4           4  Goblin♛ COD Tas Ransel Anak Sekolah Karakter K...   \n",
              "\n",
              "                                image_1  \\\n",
              "0  83d1798fee1c90c2845204d9261169bb.jpg   \n",
              "1  126868769ca4a4694d36d28960f9de8a.jpg   \n",
              "2  86aee3dc281911f5f9d50fea17b978f0.jpg   \n",
              "3  40ef98354335cf4780937da703ed6d65.jpg   \n",
              "4  c28512df97d0fc1d61fd30de966e01c3.jpg   \n",
              "\n",
              "                                             title_2  \\\n",
              "0  Clarisse CRAZY OFFER Beli 5 Dapet 12 POLKA SUM...   \n",
              "1  [VIP] kasih fashion jakarta - long dress JUMBO...   \n",
              "2  My Baby Minyak Telon Plus 145 Ml 4btl kemasan ...   \n",
              "3             SOMETHINC BROW WIZ Retractable Eyebrow   \n",
              "4                             TAS KARAKTER ANAK LUCU   \n",
              "\n",
              "                                image_2  \n",
              "0  caba83a8a7f9def9c4d268b6c34da7f4.jpg  \n",
              "1  7fdfe855a7be9c87238757c43b712b81.jpg  \n",
              "2  0ec544d3d4169df76ae156e76c724f0c.jpg  \n",
              "3  9cf798e5f940429f14b4af0fd48992a4.jpg  \n",
              "4  a4c09a46d8b1adda43a2433d40bba583.jpg  "
            ],
            "text/html": [
              "<div>\n",
              "<style scoped>\n",
              "    .dataframe tbody tr th:only-of-type {\n",
              "        vertical-align: middle;\n",
              "    }\n",
              "\n",
              "    .dataframe tbody tr th {\n",
              "        vertical-align: top;\n",
              "    }\n",
              "\n",
              "    .dataframe thead th {\n",
              "        text-align: right;\n",
              "    }\n",
              "</style>\n",
              "<table border=\"1\" class=\"dataframe\">\n",
              "  <thead>\n",
              "    <tr style=\"text-align: right;\">\n",
              "      <th></th>\n",
              "      <th>Unnamed: 0</th>\n",
              "      <th>title_1</th>\n",
              "      <th>image_1</th>\n",
              "      <th>title_2</th>\n",
              "      <th>image_2</th>\n",
              "    </tr>\n",
              "  </thead>\n",
              "  <tbody>\n",
              "    <tr>\n",
              "      <th>0</th>\n",
              "      <td>0</td>\n",
              "      <td>12.12 SUPER PROMO !! Sandal Jepit Pantai Fashion</td>\n",
              "      <td>83d1798fee1c90c2845204d9261169bb.jpg</td>\n",
              "      <td>Clarisse CRAZY OFFER Beli 5 Dapet 12 POLKA SUM...</td>\n",
              "      <td>caba83a8a7f9def9c4d268b6c34da7f4.jpg</td>\n",
              "    </tr>\n",
              "    <tr>\n",
              "      <th>1</th>\n",
              "      <td>1</td>\n",
              "      <td>Damai fashion jakarta - long dress JUMBO wanit...</td>\n",
              "      <td>126868769ca4a4694d36d28960f9de8a.jpg</td>\n",
              "      <td>[VIP] kasih fashion jakarta - long dress JUMBO...</td>\n",
              "      <td>7fdfe855a7be9c87238757c43b712b81.jpg</td>\n",
              "    </tr>\n",
              "    <tr>\n",
              "      <th>2</th>\n",
              "      <td>2</td>\n",
              "      <td>My Baby Minyak Telon 145 ML</td>\n",
              "      <td>86aee3dc281911f5f9d50fea17b978f0.jpg</td>\n",
              "      <td>My Baby Minyak Telon Plus 145 Ml 4btl kemasan ...</td>\n",
              "      <td>0ec544d3d4169df76ae156e76c724f0c.jpg</td>\n",
              "    </tr>\n",
              "    <tr>\n",
              "      <th>3</th>\n",
              "      <td>3</td>\n",
              "      <td>Creative Waterborne Marker Very Fine Double - ...</td>\n",
              "      <td>40ef98354335cf4780937da703ed6d65.jpg</td>\n",
              "      <td>SOMETHINC BROW WIZ Retractable Eyebrow</td>\n",
              "      <td>9cf798e5f940429f14b4af0fd48992a4.jpg</td>\n",
              "    </tr>\n",
              "    <tr>\n",
              "      <th>4</th>\n",
              "      <td>4</td>\n",
              "      <td>Goblin♛ COD Tas Ransel Anak Sekolah Karakter K...</td>\n",
              "      <td>c28512df97d0fc1d61fd30de966e01c3.jpg</td>\n",
              "      <td>TAS KARAKTER ANAK LUCU</td>\n",
              "      <td>a4c09a46d8b1adda43a2433d40bba583.jpg</td>\n",
              "    </tr>\n",
              "  </tbody>\n",
              "</table>\n",
              "</div>"
            ]
          },
          "metadata": {
            "tags": []
          },
          "execution_count": 9
        }
      ]
    },
    {
      "cell_type": "code",
      "metadata": {
        "trusted": true,
        "id": "LA-ZnxHa6srW",
        "outputId": "1e2a5e2c-e7ad-4fb0-9949-d42650f8f7a1"
      },
      "source": [
        "# Show number of samples in test data\n",
        "test_data.shape[0]"
      ],
      "execution_count": null,
      "outputs": [
        {
          "output_type": "execute_result",
          "data": {
            "text/plain": [
              "207"
            ]
          },
          "metadata": {
            "tags": []
          },
          "execution_count": 10
        }
      ]
    },
    {
      "cell_type": "code",
      "metadata": {
        "trusted": true,
        "id": "3mBULQDb6srW",
        "outputId": "944a1ef6-699b-431e-ba48-face39d53863"
      },
      "source": [
        "# Check for any missing data\n",
        "test_data.isnull().sum()"
      ],
      "execution_count": null,
      "outputs": [
        {
          "output_type": "execute_result",
          "data": {
            "text/plain": [
              "Unnamed: 0    0\n",
              "title_1       0\n",
              "image_1       0\n",
              "title_2       0\n",
              "image_2       0\n",
              "dtype: int64"
            ]
          },
          "metadata": {
            "tags": []
          },
          "execution_count": 11
        }
      ]
    },
    {
      "cell_type": "markdown",
      "metadata": {
        "id": "O_aDlCfN6srW"
      },
      "source": [
        "# Data Preparation"
      ]
    },
    {
      "cell_type": "code",
      "metadata": {
        "trusted": true,
        "id": "G_LqT83C6srW"
      },
      "source": [
        "# Take only samples without missing data\n",
        "training_data = training_data[training_data['title_2'].notna()]"
      ],
      "execution_count": null,
      "outputs": []
    },
    {
      "cell_type": "code",
      "metadata": {
        "trusted": true,
        "id": "X5DL_PVQ6srW"
      },
      "source": [
        "# Convert the label to one-hot encoding format\n",
        "y_train = tf.keras.utils.to_categorical(training_data.Label[:8000], num_classes=2)\n",
        "y_validation = tf.keras.utils.to_categorical(training_data.Label[8000:], num_classes=2)\n",
        "y_test = tf.keras.utils.to_categorical(test_data.Label, num_classes=2)"
      ],
      "execution_count": null,
      "outputs": []
    },
    {
      "cell_type": "code",
      "metadata": {
        "trusted": true,
        "id": "5QIR71Lt6srW"
      },
      "source": [
        "# Define data generator\n",
        "class BertSemanticDataGenerator(tf.keras.utils.Sequence):\n",
        "    \"\"\"Generates batches of data.\n",
        "\n",
        "    Args:\n",
        "        sentence_pairs: Array of premise and hypothesis input sentences.\n",
        "        labels: Array of labels.\n",
        "        batch_size: Integer batch size.\n",
        "        shuffle: boolean, whether to shuffle the data.\n",
        "        include_targets: boolean, whether to incude the labels.\n",
        "\n",
        "    Returns:\n",
        "        Tuples `([input_ids, attention_mask, `token_type_ids], labels)`\n",
        "        (or just `[input_ids, attention_mask, `token_type_ids]`\n",
        "         if `include_targets=False`)\n",
        "    \"\"\"\n",
        "\n",
        "    def __init__(\n",
        "        self,\n",
        "        sentence_pairs,\n",
        "        labels,\n",
        "        batch_size=batch_size,\n",
        "        shuffle=True,\n",
        "        include_targets=True,\n",
        "    ):\n",
        "        self.sentence_pairs = sentence_pairs\n",
        "        self.labels = labels\n",
        "        self.shuffle = shuffle\n",
        "        self.batch_size = batch_size\n",
        "        self.include_targets = include_targets\n",
        "        # Load our BERT Tokenizer to encode the text.\n",
        "        # We will use base-base-uncased pretrained model.\n",
        "        self.tokenizer = transformers.BertTokenizer.from_pretrained(\n",
        "            \"bert-base-uncased\", do_lower_case=True\n",
        "        )\n",
        "        self.indexes = np.arange(len(self.sentence_pairs))\n",
        "        self.on_epoch_end()\n",
        "\n",
        "    def __len__(self):\n",
        "        # Denotes the number of batches per epoch.\n",
        "        return len(self.sentence_pairs) // self.batch_size\n",
        "\n",
        "    def __getitem__(self, idx):\n",
        "        # Retrieves the batch of index.\n",
        "        indexes = self.indexes[idx * self.batch_size : (idx + 1) * self.batch_size]\n",
        "        sentence_pairs = self.sentence_pairs[indexes]\n",
        "\n",
        "        # With BERT tokenizer's batch_encode_plus batch of both the sentences are\n",
        "        # encoded together and separated by [SEP] token.\n",
        "        encoded = self.tokenizer.batch_encode_plus(\n",
        "            sentence_pairs.tolist(),\n",
        "            add_special_tokens=True,\n",
        "            max_length=max_length,\n",
        "            return_attention_mask=True,\n",
        "            return_token_type_ids=True,\n",
        "            pad_to_max_length=True,\n",
        "            return_tensors=\"tf\",\n",
        "        )\n",
        "\n",
        "        # Convert batch of encoded features to numpy array.\n",
        "        input_ids = np.array(encoded[\"input_ids\"], dtype=\"int32\")\n",
        "        attention_masks = np.array(encoded[\"attention_mask\"], dtype=\"int32\")\n",
        "        token_type_ids = np.array(encoded[\"token_type_ids\"], dtype=\"int32\")\n",
        "\n",
        "        # Set to true if data generator is used for training/validation.\n",
        "        if self.include_targets:\n",
        "            labels = np.array(self.labels[indexes], dtype=\"int32\")\n",
        "            return [input_ids, attention_masks, token_type_ids], labels\n",
        "        else:\n",
        "            return [input_ids, attention_masks, token_type_ids]\n",
        "\n",
        "    def on_epoch_end(self):\n",
        "        # Shuffle indexes after each epoch if shuffle is set to True.\n",
        "        if self.shuffle:\n",
        "            np.random.RandomState(42).shuffle(self.indexes)"
      ],
      "execution_count": null,
      "outputs": []
    },
    {
      "cell_type": "markdown",
      "metadata": {
        "id": "588AyAqz6srW"
      },
      "source": [
        "# Modeling"
      ]
    },
    {
      "cell_type": "code",
      "metadata": {
        "trusted": true,
        "colab": {
          "referenced_widgets": [
            "7954273b11f345059abd0c0e88fe3157",
            "fad14cfc9f754a94bdebbdd0ca4adafc"
          ]
        },
        "id": "gYr07zsm6srW",
        "outputId": "58eede6d-d4c7-4684-c14c-c6b4b13deb50"
      },
      "source": [
        "# Create the model under a distribution strategy scope.\n",
        "strategy = tf.distribute.MirroredStrategy()\n",
        "\n",
        "with strategy.scope():\n",
        "    # Encoded token ids from BERT tokenizer.\n",
        "    input_ids = tf.keras.layers.Input(\n",
        "        shape=(max_length,), dtype=tf.int32, name=\"input_ids\"\n",
        "    )\n",
        "    # Attention masks indicates to the model which tokens should be attended to.\n",
        "    attention_masks = tf.keras.layers.Input(\n",
        "        shape=(max_length,), dtype=tf.int32, name=\"attention_masks\"\n",
        "    )\n",
        "    # Token type ids are binary masks identifying different sequences in the model.\n",
        "    token_type_ids = tf.keras.layers.Input(\n",
        "        shape=(max_length,), dtype=tf.int32, name=\"token_type_ids\"\n",
        "    )\n",
        "    # Loading pretrained BERT model.\n",
        "    bert_model = transformers.TFBertModel.from_pretrained(\"bert-base-uncased\")\n",
        "    # Freeze the BERT model to reuse the pretrained features without modifying them.\n",
        "    bert_model.trainable = False\n",
        "\n",
        "    sequence_output, pooled_output = bert_model(\n",
        "        input_ids, attention_mask=attention_masks, token_type_ids=token_type_ids\n",
        "    )\n",
        "    # Add trainable layers on top of frozen layers to adapt the pretrained features on the new data.\n",
        "    bi_lstm = tf.keras.layers.Bidirectional(\n",
        "        tf.keras.layers.LSTM(64, return_sequences=True)\n",
        "    )(sequence_output)\n",
        "    # Applying hybrid pooling approach to bi_lstm sequence output.\n",
        "    avg_pool = tf.keras.layers.GlobalAveragePooling1D()(bi_lstm)\n",
        "    max_pool = tf.keras.layers.GlobalMaxPooling1D()(bi_lstm)\n",
        "    concat = tf.keras.layers.concatenate([avg_pool, max_pool])\n",
        "    dropout = tf.keras.layers.Dropout(0.3)(concat)\n",
        "    output = tf.keras.layers.Dense(2, activation=\"softmax\")(dropout)\n",
        "    model = tf.keras.models.Model(\n",
        "        inputs=[input_ids, attention_masks, token_type_ids], outputs=output\n",
        "    )\n",
        "\n",
        "    model.compile(\n",
        "        optimizer=tf.keras.optimizers.Adam(),\n",
        "        loss=\"categorical_crossentropy\",\n",
        "        metrics=[\"acc\"],\n",
        "    )\n",
        "\n",
        "\n",
        "print(f\"Strategy: {strategy}\")\n",
        "model.summary()"
      ],
      "execution_count": null,
      "outputs": [
        {
          "output_type": "display_data",
          "data": {
            "text/plain": [
              "HBox(children=(FloatProgress(value=0.0, description='Downloading', max=433.0, style=ProgressStyle(description_…"
            ],
            "application/vnd.jupyter.widget-view+json": {
              "version_major": 2,
              "version_minor": 0,
              "model_id": "7954273b11f345059abd0c0e88fe3157"
            }
          },
          "metadata": {
            "tags": []
          }
        },
        {
          "output_type": "stream",
          "text": [
            "\n"
          ],
          "name": "stdout"
        },
        {
          "output_type": "display_data",
          "data": {
            "text/plain": [
              "HBox(children=(FloatProgress(value=0.0, description='Downloading', max=536063208.0, style=ProgressStyle(descri…"
            ],
            "application/vnd.jupyter.widget-view+json": {
              "version_major": 2,
              "version_minor": 0,
              "model_id": "fad14cfc9f754a94bdebbdd0ca4adafc"
            }
          },
          "metadata": {
            "tags": []
          }
        },
        {
          "output_type": "stream",
          "text": [
            "\n"
          ],
          "name": "stdout"
        },
        {
          "output_type": "stream",
          "text": [
            "Some layers from the model checkpoint at bert-base-uncased were not used when initializing TFBertModel: ['nsp___cls', 'mlm___cls']\n",
            "- This IS expected if you are initializing TFBertModel from the checkpoint of a model trained on another task or with another architecture (e.g. initializing a BertForSequenceClassification model from a BertForPretraining model).\n",
            "- This IS NOT expected if you are initializing TFBertModel from the checkpoint of a model that you expect to be exactly identical (initializing a BertForSequenceClassification model from a BertForSequenceClassification model).\n",
            "All the layers of TFBertModel were initialized from the model checkpoint at bert-base-uncased.\n",
            "If your task is similar to the task the model of the checkpoint was trained on, you can already use TFBertModel for predictions without further training.\n"
          ],
          "name": "stderr"
        },
        {
          "output_type": "stream",
          "text": [
            "Strategy: <tensorflow.python.distribute.mirrored_strategy.MirroredStrategy object at 0x7f32043459d0>\n",
            "Model: \"functional_1\"\n",
            "__________________________________________________________________________________________________\n",
            "Layer (type)                    Output Shape         Param #     Connected to                     \n",
            "==================================================================================================\n",
            "input_ids (InputLayer)          [(None, 128)]        0                                            \n",
            "__________________________________________________________________________________________________\n",
            "attention_masks (InputLayer)    [(None, 128)]        0                                            \n",
            "__________________________________________________________________________________________________\n",
            "token_type_ids (InputLayer)     [(None, 128)]        0                                            \n",
            "__________________________________________________________________________________________________\n",
            "tf_bert_model (TFBertModel)     ((None, 128, 768), ( 109482240   input_ids[0][0]                  \n",
            "                                                                 attention_masks[0][0]            \n",
            "                                                                 token_type_ids[0][0]             \n",
            "__________________________________________________________________________________________________\n",
            "bidirectional (Bidirectional)   (None, 128, 128)     426496      tf_bert_model[0][0]              \n",
            "__________________________________________________________________________________________________\n",
            "global_average_pooling1d (Globa (None, 128)          0           bidirectional[0][0]              \n",
            "__________________________________________________________________________________________________\n",
            "global_max_pooling1d (GlobalMax (None, 128)          0           bidirectional[0][0]              \n",
            "__________________________________________________________________________________________________\n",
            "concatenate (Concatenate)       (None, 256)          0           global_average_pooling1d[0][0]   \n",
            "                                                                 global_max_pooling1d[0][0]       \n",
            "__________________________________________________________________________________________________\n",
            "dropout_37 (Dropout)            (None, 256)          0           concatenate[0][0]                \n",
            "__________________________________________________________________________________________________\n",
            "dense (Dense)                   (None, 2)            514         dropout_37[0][0]                 \n",
            "==================================================================================================\n",
            "Total params: 109,909,250\n",
            "Trainable params: 427,010\n",
            "Non-trainable params: 109,482,240\n",
            "__________________________________________________________________________________________________\n"
          ],
          "name": "stdout"
        }
      ]
    },
    {
      "cell_type": "code",
      "metadata": {
        "trusted": true,
        "colab": {
          "referenced_widgets": [
            "2e34668aa78444cdb4ae318560f6dfea"
          ]
        },
        "id": "IaofdT956srW",
        "outputId": "a34f30c4-f9c3-41b9-b9fc-f5d8cdbd753c"
      },
      "source": [
        "# Generate training, validation, and test set\n",
        "training_set = BertSemanticDataGenerator(\n",
        "    training_data[[\"title_1\", \"title_2\"]].values.astype(\"str\")[:8000],\n",
        "    y_train,\n",
        "    batch_size=batch_size,\n",
        "    shuffle=True,\n",
        ")\n",
        "validation_set = BertSemanticDataGenerator(\n",
        "    training_data[[\"title_1\", \"title_2\"]].values.astype(\"str\")[8000:],\n",
        "    y_validation,\n",
        "    batch_size=batch_size,\n",
        "    shuffle=False,\n",
        ")\n",
        "test_set = BertSemanticDataGenerator(\n",
        "    test_data[[\"title_1\", \"title_2\"]].values.astype(\"str\"),\n",
        "    y_validation,\n",
        "    batch_size=batch_size,\n",
        "    shuffle=False,\n",
        ")"
      ],
      "execution_count": null,
      "outputs": [
        {
          "output_type": "display_data",
          "data": {
            "text/plain": [
              "HBox(children=(FloatProgress(value=0.0, description='Downloading', max=231508.0, style=ProgressStyle(descripti…"
            ],
            "application/vnd.jupyter.widget-view+json": {
              "version_major": 2,
              "version_minor": 0,
              "model_id": "2e34668aa78444cdb4ae318560f6dfea"
            }
          },
          "metadata": {
            "tags": []
          }
        },
        {
          "output_type": "stream",
          "text": [
            "\n"
          ],
          "name": "stdout"
        }
      ]
    },
    {
      "cell_type": "markdown",
      "metadata": {
        "id": "i2Gc-oRX6srY"
      },
      "source": [
        "# Model Training"
      ]
    },
    {
      "cell_type": "code",
      "metadata": {
        "trusted": true,
        "id": "o6my-wvH6srY",
        "outputId": "4d099d21-0d42-4e6f-dfdb-55990d514f45"
      },
      "source": [
        "# Train the model\n",
        "history = model.fit(\n",
        "    training_set,\n",
        "    validation_data=validation_set,\n",
        "    epochs=epochs,\n",
        "    use_multiprocessing=True,\n",
        "    workers=-1,\n",
        ")"
      ],
      "execution_count": null,
      "outputs": [
        {
          "output_type": "stream",
          "text": [
            "Truncation was not explicitely activated but `max_length` is provided a specific value, please use `truncation=True` to explicitely truncate examples to max length. Defaulting to 'longest_first' truncation strategy. If you encode pairs of sequences (GLUE-style) with the tokenizer you can select this strategy more precisely by providing a specific strategy to `truncation`.\n",
            "/opt/conda/lib/python3.7/site-packages/transformers/tokenization_utils_base.py:1944: FutureWarning: The `pad_to_max_length` argument is deprecated and will be removed in a future version, use `padding=True` or `padding='longest'` to pad to the longest sequence in the batch, or use `padding='max_length'` to pad to a max length. In this case, you can give a specific length with `max_length` (e.g. `max_length=45`) or leave max_length to None to pad to the maximal input size of the model (e.g. 512 for Bert).\n",
            "  FutureWarning,\n"
          ],
          "name": "stderr"
        },
        {
          "output_type": "stream",
          "text": [
            "Epoch 1/2\n",
            "250/250 [==============================] - ETA: 0s - loss: 0.6680 - acc: 0.6034"
          ],
          "name": "stdout"
        },
        {
          "output_type": "stream",
          "text": [
            "Truncation was not explicitely activated but `max_length` is provided a specific value, please use `truncation=True` to explicitely truncate examples to max length. Defaulting to 'longest_first' truncation strategy. If you encode pairs of sequences (GLUE-style) with the tokenizer you can select this strategy more precisely by providing a specific strategy to `truncation`.\n"
          ],
          "name": "stderr"
        },
        {
          "output_type": "stream",
          "text": [
            "250/250 [==============================] - 65s 262ms/step - loss: 0.6680 - acc: 0.6034 - val_loss: 0.6491 - val_acc: 0.6080\n",
            "Epoch 2/2\n",
            "250/250 [==============================] - 61s 243ms/step - loss: 0.6233 - acc: 0.6505 - val_loss: 0.5960 - val_acc: 0.6719\n"
          ],
          "name": "stdout"
        }
      ]
    },
    {
      "cell_type": "markdown",
      "metadata": {
        "id": "FoAyIX7v6srY"
      },
      "source": [
        "# Fine-tuning"
      ]
    },
    {
      "cell_type": "code",
      "metadata": {
        "trusted": true,
        "id": "LIyZ6oBt6srY",
        "outputId": "e87bc44e-f1b0-45eb-fe8c-d74f4d0b32a8"
      },
      "source": [
        "# Unfreeze the bert_model.\n",
        "bert_model.trainable = True\n",
        "\n",
        "# Recompile the model to make the change effective.\n",
        "model.compile(\n",
        "    optimizer=tf.keras.optimizers.Adam(1e-5),\n",
        "    loss=\"categorical_crossentropy\",\n",
        "    metrics=[\"accuracy\"],\n",
        ")\n",
        "model.summary()"
      ],
      "execution_count": null,
      "outputs": [
        {
          "output_type": "stream",
          "text": [
            "Model: \"functional_1\"\n",
            "__________________________________________________________________________________________________\n",
            "Layer (type)                    Output Shape         Param #     Connected to                     \n",
            "==================================================================================================\n",
            "input_ids (InputLayer)          [(None, 128)]        0                                            \n",
            "__________________________________________________________________________________________________\n",
            "attention_masks (InputLayer)    [(None, 128)]        0                                            \n",
            "__________________________________________________________________________________________________\n",
            "token_type_ids (InputLayer)     [(None, 128)]        0                                            \n",
            "__________________________________________________________________________________________________\n",
            "tf_bert_model (TFBertModel)     ((None, 128, 768), ( 109482240   input_ids[0][0]                  \n",
            "                                                                 attention_masks[0][0]            \n",
            "                                                                 token_type_ids[0][0]             \n",
            "__________________________________________________________________________________________________\n",
            "bidirectional (Bidirectional)   (None, 128, 128)     426496      tf_bert_model[0][0]              \n",
            "__________________________________________________________________________________________________\n",
            "global_average_pooling1d (Globa (None, 128)          0           bidirectional[0][0]              \n",
            "__________________________________________________________________________________________________\n",
            "global_max_pooling1d (GlobalMax (None, 128)          0           bidirectional[0][0]              \n",
            "__________________________________________________________________________________________________\n",
            "concatenate (Concatenate)       (None, 256)          0           global_average_pooling1d[0][0]   \n",
            "                                                                 global_max_pooling1d[0][0]       \n",
            "__________________________________________________________________________________________________\n",
            "dropout_37 (Dropout)            (None, 256)          0           concatenate[0][0]                \n",
            "__________________________________________________________________________________________________\n",
            "dense (Dense)                   (None, 2)            514         dropout_37[0][0]                 \n",
            "==================================================================================================\n",
            "Total params: 109,909,250\n",
            "Trainable params: 109,909,250\n",
            "Non-trainable params: 0\n",
            "__________________________________________________________________________________________________\n"
          ],
          "name": "stdout"
        }
      ]
    },
    {
      "cell_type": "markdown",
      "metadata": {
        "id": "E8KQTHS96srY"
      },
      "source": [
        "# Train the Entire Model"
      ]
    },
    {
      "cell_type": "code",
      "metadata": {
        "trusted": true,
        "id": "QfQZBVpB6srY",
        "outputId": "f81e3d7d-44bd-4d87-a1d9-a06830427804"
      },
      "source": [
        "# Train the model again after unfreezing the BERT component\n",
        "history = model.fit(\n",
        "    training_set,\n",
        "    validation_data=validation_set,\n",
        "    epochs=epochs,\n",
        "    use_multiprocessing=True,\n",
        "    workers=-1,\n",
        ")"
      ],
      "execution_count": null,
      "outputs": [
        {
          "output_type": "stream",
          "text": [
            "Epoch 1/2\n",
            "250/250 [==============================] - 138s 551ms/step - loss: 0.5690 - accuracy: 0.7084 - val_loss: 0.5504 - val_accuracy: 0.7132\n",
            "Epoch 2/2\n",
            "250/250 [==============================] - 133s 532ms/step - loss: 0.4994 - accuracy: 0.7623 - val_loss: 0.5034 - val_accuracy: 0.7551\n"
          ],
          "name": "stdout"
        }
      ]
    },
    {
      "cell_type": "markdown",
      "metadata": {
        "id": "hGL8vaHi6srY"
      },
      "source": [
        "# Generate Prediction"
      ]
    },
    {
      "cell_type": "code",
      "metadata": {
        "trusted": true,
        "id": "YbioMH1H6srY"
      },
      "source": [
        "# Generate test set\n",
        "test_set = BertSemanticDataGenerator(\n",
        "    test_data[[\"title_1\", \"title_2\"]].values.astype(\"str\"), \n",
        "    labels=None, \n",
        "    batch_size=9, \n",
        "    shuffle=False, \n",
        "    include_targets=False\n",
        ")\n",
        "\n",
        "# Generate prediction based on test data\n",
        "prediction = model.predict(validation_set)\n",
        "prediction = np.argmax(prediction, axis=1)"
      ],
      "execution_count": null,
      "outputs": []
    },
    {
      "cell_type": "code",
      "metadata": {
        "trusted": true,
        "id": "qMO6avWh6srY"
      },
      "source": [
        "# Append the prediction to test data\n",
        "test_data['label'] = prediction"
      ],
      "execution_count": null,
      "outputs": []
    },
    {
      "cell_type": "code",
      "metadata": {
        "trusted": true,
        "id": "YZTvIkfY6srY"
      },
      "source": [
        "# Generate submission data\n",
        "test_data.loc[:, ['label']].to_csv(\n",
        "    'submission.csv', index=True, header=True\n",
        ")"
      ],
      "execution_count": null,
      "outputs": []
    }
  ]
}